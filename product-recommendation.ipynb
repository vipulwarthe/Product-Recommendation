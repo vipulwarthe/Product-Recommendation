{
 "cells": [
  {
   "cell_type": "code",
   "execution_count": 92,
   "metadata": {
    "ExecuteTime": {
     "end_time": "2023-07-26T18:45:07.576825700Z",
     "start_time": "2023-07-26T18:45:07.495828800Z"
    },
    "execution": {
     "iopub.execute_input": "2023-07-26T13:44:19.479885Z",
     "iopub.status.busy": "2023-07-26T13:44:19.479362Z",
     "iopub.status.idle": "2023-07-26T13:44:21.010812Z",
     "shell.execute_reply": "2023-07-26T13:44:21.009574Z"
    },
    "papermill": {
     "duration": 1.543952,
     "end_time": "2023-07-26T13:44:21.013638",
     "exception": false,
     "start_time": "2023-07-26T13:44:19.469686",
     "status": "completed"
    },
    "tags": []
   },
   "outputs": [],
   "source": [
    "# Import necessary libraries\n",
    "import pandas as pd\n",
    "import matplotlib.pyplot as plt\n",
    "import seaborn as sns\n",
    "from sklearn.model_selection import train_test_split\n",
    "from sklearn.preprocessing import LabelEncoder\n",
    "from sklearn.neighbors import NearestNeighbors\n",
    "import pickle"
   ]
  },
  {
   "cell_type": "code",
   "execution_count": 93,
   "metadata": {
    "ExecuteTime": {
     "end_time": "2023-07-26T18:45:07.801554700Z",
     "start_time": "2023-07-26T18:45:07.508830100Z"
    },
    "collapsed": false,
    "execution": {
     "iopub.execute_input": "2023-07-26T13:44:21.030745Z",
     "iopub.status.busy": "2023-07-26T13:44:21.029675Z",
     "iopub.status.idle": "2023-07-26T13:44:21.239791Z",
     "shell.execute_reply": "2023-07-26T13:44:21.238698Z"
    },
    "jupyter": {
     "outputs_hidden": false
    },
    "papermill": {
     "duration": 0.221014,
     "end_time": "2023-07-26T13:44:21.242188",
     "exception": false,
     "start_time": "2023-07-26T13:44:21.021174",
     "status": "completed"
    },
    "tags": []
   },
   "outputs": [
    {
     "name": "stdout",
     "output_type": "stream",
     "text": [
      "Original shape: (1465, 16)\n"
     ]
    }
   ],
   "source": [
    "# Load dataset\n",
    "full_data = pd.read_csv('amazon.csv')\n",
    "print(\"Original shape:\", full_data.shape)"
   ]
  },
  {
   "cell_type": "code",
   "execution_count": 94,
   "metadata": {
    "ExecuteTime": {
     "end_time": "2023-07-26T18:45:07.802556500Z",
     "start_time": "2023-07-26T18:45:07.685827900Z"
    },
    "collapsed": false,
    "execution": {
     "iopub.execute_input": "2023-07-26T13:44:21.300621Z",
     "iopub.status.busy": "2023-07-26T13:44:21.300252Z",
     "iopub.status.idle": "2023-07-26T13:44:21.311894Z",
     "shell.execute_reply": "2023-07-26T13:44:21.310924Z"
    },
    "jupyter": {
     "outputs_hidden": false
    },
    "papermill": {
     "duration": 0.022886,
     "end_time": "2023-07-26T13:44:21.314196",
     "exception": false,
     "start_time": "2023-07-26T13:44:21.29131",
     "status": "completed"
    },
    "tags": []
   },
   "outputs": [
    {
     "name": "stdout",
     "output_type": "stream",
     "text": [
      "After dropping columns: (1465, 3)\n"
     ]
    }
   ],
   "source": [
    "# Drop irrelevant columns\n",
    "columns_to_drop = [\n",
    "    'product_name', 'category', 'discounted_price', 'actual_price',\n",
    "    'discount_percentage', 'about_product', 'user_name', 'review_id',\n",
    "    'review_title', 'review_content', 'img_link', 'product_link',\n",
    "    'rating_count'\n",
    "]\n",
    "data = full_data.drop(columns=columns_to_drop)\n",
    "print(\"After dropping columns:\", data.shape)"
   ]
  },
  {
   "cell_type": "markdown",
   "metadata": {
    "papermill": {
     "duration": 0.00764,
     "end_time": "2023-07-26T13:44:21.360756",
     "exception": false,
     "start_time": "2023-07-26T13:44:21.353116",
     "status": "completed"
    },
    "tags": []
   },
   "source": [
    "# Check the distribution of the rating"
   ]
  },
  {
   "cell_type": "code",
   "execution_count": 95,
   "metadata": {
    "ExecuteTime": {
     "end_time": "2023-07-26T18:45:08.749172100Z",
     "start_time": "2023-07-26T18:45:07.745581700Z"
    },
    "collapsed": false,
    "execution": {
     "iopub.execute_input": "2023-07-26T13:44:21.380292Z",
     "iopub.status.busy": "2023-07-26T13:44:21.379928Z",
     "iopub.status.idle": "2023-07-26T13:44:21.849303Z",
     "shell.execute_reply": "2023-07-26T13:44:21.848083Z"
    },
    "jupyter": {
     "outputs_hidden": false
    },
    "papermill": {
     "duration": 0.482064,
     "end_time": "2023-07-26T13:44:21.851559",
     "exception": false,
     "start_time": "2023-07-26T13:44:21.369495",
     "status": "completed"
    },
    "tags": []
   },
   "outputs": [
    {
     "name": "stderr",
     "output_type": "stream",
     "text": [
      "/home/ubuntu/MLPRO/lib/python3.10/site-packages/seaborn/_oldcore.py:1498: FutureWarning: is_categorical_dtype is deprecated and will be removed in a future version. Use isinstance(dtype, CategoricalDtype) instead\n",
      "  if pd.api.types.is_categorical_dtype(vector):\n",
      "/home/ubuntu/MLPRO/lib/python3.10/site-packages/seaborn/_oldcore.py:1498: FutureWarning: is_categorical_dtype is deprecated and will be removed in a future version. Use isinstance(dtype, CategoricalDtype) instead\n",
      "  if pd.api.types.is_categorical_dtype(vector):\n"
     ]
    },
    {
     "data": {
      "image/png": "[encoded data removed]",
      "text/plain": [
       "<Figure size 1000x600 with 1 Axes>"
      ]
     },
     "metadata": {},
     "output_type": "display_data"
    }
   ],
   "source": [
    "# Visualize ratings using countplot\n",
    "plt.figure(figsize=(10, 6))\n",
    "sns.countplot(data=data[data['rating'] != '|'], x='rating', order=sorted(data['rating'].unique()))\n",
    "plt.title(\"Rating Distribution\")\n",
    "plt.show()"
   ]
  },
  {
   "cell_type": "code",
   "execution_count": 96,
   "metadata": {
    "ExecuteTime": {
     "end_time": "2023-07-26T18:45:08.763629400Z",
     "start_time": "2023-07-26T18:45:08.751179800Z"
    },
    "collapsed": false,
    "execution": {
     "iopub.execute_input": "2023-07-26T13:44:21.872555Z",
     "iopub.status.busy": "2023-07-26T13:44:21.87194Z",
     "iopub.status.idle": "2023-07-26T13:44:21.881541Z",
     "shell.execute_reply": "2023-07-26T13:44:21.880639Z"
    },
    "jupyter": {
     "outputs_hidden": false
    },
    "papermill": {
     "duration": 0.023243,
     "end_time": "2023-07-26T13:44:21.883863",
     "exception": false,
     "start_time": "2023-07-26T13:44:21.86062",
     "status": "completed"
    },
    "tags": []
   },
   "outputs": [],
   "source": [
    "# Data cleaning\n",
    "data = data.dropna()\n",
    "data = data[data['rating'] != '|']\n",
    "data['rating'] = data['rating'].astype(float)"
   ]
  },
  {
   "cell_type": "code",
   "execution_count": 97,
   "metadata": {},
   "outputs": [],
   "source": [
    "# Encode categorical values\n",
    "product_id_encoder = LabelEncoder()\n",
    "user_id_encoder = LabelEncoder()"
   ]
  },
  {
   "cell_type": "code",
   "execution_count": 98,
   "metadata": {
    "ExecuteTime": {
     "end_time": "2023-07-26T18:45:08.964623900Z",
     "start_time": "2023-07-26T18:45:08.764628100Z"
    },
    "collapsed": false,
    "execution": {
     "iopub.execute_input": "2023-07-26T13:44:21.903202Z",
     "iopub.status.busy": "2023-07-26T13:44:21.902877Z",
     "iopub.status.idle": "2023-07-26T13:44:21.915404Z",
     "shell.execute_reply": "2023-07-26T13:44:21.914534Z"
    },
    "jupyter": {
     "outputs_hidden": false
    },
    "papermill": {
     "duration": 0.024863,
     "end_time": "2023-07-26T13:44:21.917701",
     "exception": false,
     "start_time": "2023-07-26T13:44:21.892838",
     "status": "completed"
    },
    "tags": []
   },
   "outputs": [],
   "source": [
    "data['product_id'] = product_id_encoder.fit_transform(data['product_id'])\n",
    "data['user_id'] = user_id_encoder.fit_transform(data['user_id'])"
   ]
  },
  {
   "cell_type": "code",
   "execution_count": 99,
   "metadata": {},
   "outputs": [],
   "source": [
    "# Save encoder for future use\n",
    "with open('product_id_encoder.pkl', 'wb') as f:\n",
    "    pickle.dump(product_id_encoder, f)"
   ]
  },
  {
   "cell_type": "code",
   "execution_count": 100,
   "metadata": {
    "ExecuteTime": {
     "end_time": "2023-07-26T18:45:08.965626900Z",
     "start_time": "2023-07-26T18:45:08.782627700Z"
    },
    "collapsed": false,
    "execution": {
     "iopub.execute_input": "2023-07-26T13:44:21.937457Z",
     "iopub.status.busy": "2023-07-26T13:44:21.937029Z",
     "iopub.status.idle": "2023-07-26T13:44:21.950101Z",
     "shell.execute_reply": "2023-07-26T13:44:21.949373Z"
    },
    "jupyter": {
     "outputs_hidden": false
    },
    "papermill": {
     "duration": 0.025157,
     "end_time": "2023-07-26T13:44:21.951975",
     "exception": false,
     "start_time": "2023-07-26T13:44:21.926818",
     "status": "completed"
    },
    "tags": []
   },
   "outputs": [
    {
     "data": {
      "text/html": [
       "<div>\n",
       "<style scoped>\n",
       "    .dataframe tbody tr th:only-of-type {\n",
       "        vertical-align: middle;\n",
       "    }\n",
       "\n",
       "    .dataframe tbody tr th {\n",
       "        vertical-align: top;\n",
       "    }\n",
       "\n",
       "    .dataframe thead th {\n",
       "        text-align: right;\n",
       "    }\n",
       "</style>\n",
       "<table border=\"1\" class=\"dataframe\">\n",
       "  <thead>\n",
       "    <tr style=\"text-align: right;\">\n",
       "      <th></th>\n",
       "      <th>product_id</th>\n",
       "      <th>rating</th>\n",
       "      <th>user_id</th>\n",
       "    </tr>\n",
       "  </thead>\n",
       "  <tbody>\n",
       "    <tr>\n",
       "      <th>0</th>\n",
       "      <td>346</td>\n",
       "      <td>4.2</td>\n",
       "      <td>623</td>\n",
       "    </tr>\n",
       "    <tr>\n",
       "      <th>1</th>\n",
       "      <td>847</td>\n",
       "      <td>4.0</td>\n",
       "      <td>88</td>\n",
       "    </tr>\n",
       "    <tr>\n",
       "      <th>2</th>\n",
       "      <td>818</td>\n",
       "      <td>3.9</td>\n",
       "      <td>848</td>\n",
       "    </tr>\n",
       "    <tr>\n",
       "      <th>3</th>\n",
       "      <td>643</td>\n",
       "      <td>4.2</td>\n",
       "      <td>254</td>\n",
       "    </tr>\n",
       "    <tr>\n",
       "      <th>4</th>\n",
       "      <td>588</td>\n",
       "      <td>4.2</td>\n",
       "      <td>17</td>\n",
       "    </tr>\n",
       "    <tr>\n",
       "      <th>...</th>\n",
       "      <td>...</td>\n",
       "      <td>...</td>\n",
       "      <td>...</td>\n",
       "    </tr>\n",
       "    <tr>\n",
       "      <th>1460</th>\n",
       "      <td>672</td>\n",
       "      <td>4.0</td>\n",
       "      <td>1049</td>\n",
       "    </tr>\n",
       "    <tr>\n",
       "      <th>1461</th>\n",
       "      <td>201</td>\n",
       "      <td>4.1</td>\n",
       "      <td>425</td>\n",
       "    </tr>\n",
       "    <tr>\n",
       "      <th>1462</th>\n",
       "      <td>27</td>\n",
       "      <td>3.6</td>\n",
       "      <td>864</td>\n",
       "    </tr>\n",
       "    <tr>\n",
       "      <th>1463</th>\n",
       "      <td>61</td>\n",
       "      <td>4.0</td>\n",
       "      <td>300</td>\n",
       "    </tr>\n",
       "    <tr>\n",
       "      <th>1464</th>\n",
       "      <td>134</td>\n",
       "      <td>4.3</td>\n",
       "      <td>433</td>\n",
       "    </tr>\n",
       "  </tbody>\n",
       "</table>\n",
       "<p>1464 rows × 3 columns</p>\n",
       "</div>"
      ],
      "text/plain": [
       "      product_id  rating  user_id\n",
       "0            346     4.2      623\n",
       "1            847     4.0       88\n",
       "2            818     3.9      848\n",
       "3            643     4.2      254\n",
       "4            588     4.2       17\n",
       "...          ...     ...      ...\n",
       "1460         672     4.0     1049\n",
       "1461         201     4.1      425\n",
       "1462          27     3.6      864\n",
       "1463          61     4.0      300\n",
       "1464         134     4.3      433\n",
       "\n",
       "[1464 rows x 3 columns]"
      ]
     },
     "execution_count": 100,
     "metadata": {},
     "output_type": "execute_result"
    }
   ],
   "source": [
    "data"
   ]
  },
  {
   "cell_type": "code",
   "execution_count": 101,
   "metadata": {},
   "outputs": [],
   "source": [
    "# Create pivot-like matrix (product × user with rating)\n",
    "pivot_data = data.pivot_table(index='product_id', columns='user_id', values='rating').fillna(0)\n",
    "pivot_data.to_csv('Test_data.csv')  # Save for inference use"
   ]
  },
  {
   "cell_type": "code",
   "execution_count": 102,
   "metadata": {},
   "outputs": [],
   "source": [
    "pivot_table = data.pivot_table(\n",
    "    index='product_id',\n",
    "    columns='user_id',\n",
    "    values='rating'\n",
    ").fillna(0)"
   ]
  },
  {
   "cell_type": "markdown",
   "metadata": {
    "papermill": {
     "duration": 0.009205,
     "end_time": "2023-07-26T13:44:22.004004",
     "exception": false,
     "start_time": "2023-07-26T13:44:21.994799",
     "status": "completed"
    },
    "tags": []
   },
   "source": [
    "# Splitting the dataset\n"
   ]
  },
  {
   "cell_type": "code",
   "execution_count": 103,
   "metadata": {
    "ExecuteTime": {
     "end_time": "2023-07-26T18:45:09.000628400Z",
     "start_time": "2023-07-26T18:45:08.802623200Z"
    },
    "collapsed": false,
    "execution": {
     "iopub.execute_input": "2023-07-26T13:44:22.023686Z",
     "iopub.status.busy": "2023-07-26T13:44:22.023265Z",
     "iopub.status.idle": "2023-07-26T13:44:22.031862Z",
     "shell.execute_reply": "2023-07-26T13:44:22.030759Z"
    },
    "jupyter": {
     "outputs_hidden": false
    },
    "papermill": {
     "duration": 0.021096,
     "end_time": "2023-07-26T13:44:22.034032",
     "exception": false,
     "start_time": "2023-07-26T13:44:22.012936",
     "status": "completed"
    },
    "tags": []
   },
   "outputs": [],
   "source": [
    "Train, Test = train_test_split(data, test_size=0.2, random_state=42)"
   ]
  },
  {
   "cell_type": "code",
   "execution_count": 104,
   "metadata": {
    "ExecuteTime": {
     "end_time": "2023-07-26T18:45:09.001630Z",
     "start_time": "2023-07-26T18:45:08.827624Z"
    },
    "execution": {
     "iopub.execute_input": "2023-07-26T13:44:22.054295Z",
     "iopub.status.busy": "2023-07-26T13:44:22.05394Z",
     "iopub.status.idle": "2023-07-26T13:44:22.05974Z",
     "shell.execute_reply": "2023-07-26T13:44:22.058699Z"
    },
    "papermill": {
     "duration": 0.018729,
     "end_time": "2023-07-26T13:44:22.061904",
     "exception": false,
     "start_time": "2023-07-26T13:44:22.043175",
     "status": "completed"
    },
    "tags": []
   },
   "outputs": [
    {
     "data": {
      "text/html": [
       "<div>\n",
       "<style scoped>\n",
       "    .dataframe tbody tr th:only-of-type {\n",
       "        vertical-align: middle;\n",
       "    }\n",
       "\n",
       "    .dataframe tbody tr th {\n",
       "        vertical-align: top;\n",
       "    }\n",
       "\n",
       "    .dataframe thead th {\n",
       "        text-align: right;\n",
       "    }\n",
       "</style>\n",
       "<table border=\"1\" class=\"dataframe\">\n",
       "  <thead>\n",
       "    <tr style=\"text-align: right;\">\n",
       "      <th></th>\n",
       "      <th>product_id</th>\n",
       "      <th>rating</th>\n",
       "      <th>user_id</th>\n",
       "    </tr>\n",
       "  </thead>\n",
       "  <tbody>\n",
       "    <tr>\n",
       "      <th>1331</th>\n",
       "      <td>557</td>\n",
       "      <td>3.9</td>\n",
       "      <td>1188</td>\n",
       "    </tr>\n",
       "    <tr>\n",
       "      <th>724</th>\n",
       "      <td>3</td>\n",
       "      <td>4.3</td>\n",
       "      <td>47</td>\n",
       "    </tr>\n",
       "    <tr>\n",
       "      <th>254</th>\n",
       "      <td>436</td>\n",
       "      <td>3.6</td>\n",
       "      <td>94</td>\n",
       "    </tr>\n",
       "    <tr>\n",
       "      <th>1068</th>\n",
       "      <td>295</td>\n",
       "      <td>3.9</td>\n",
       "      <td>1017</td>\n",
       "    </tr>\n",
       "    <tr>\n",
       "      <th>1193</th>\n",
       "      <td>308</td>\n",
       "      <td>3.7</td>\n",
       "      <td>401</td>\n",
       "    </tr>\n",
       "  </tbody>\n",
       "</table>\n",
       "</div>"
      ],
      "text/plain": [
       "      product_id  rating  user_id\n",
       "1331         557     3.9     1188\n",
       "724            3     4.3       47\n",
       "254          436     3.6       94\n",
       "1068         295     3.9     1017\n",
       "1193         308     3.7      401"
      ]
     },
     "execution_count": 104,
     "metadata": {},
     "output_type": "execute_result"
    }
   ],
   "source": [
    "Train.head()"
   ]
  },
  {
   "cell_type": "code",
   "execution_count": 105,
   "metadata": {
    "ExecuteTime": {
     "end_time": "2023-07-26T18:45:09.001630Z",
     "start_time": "2023-07-26T18:45:08.844627300Z"
    },
    "collapsed": false,
    "jupyter": {
     "outputs_hidden": false
    }
   },
   "outputs": [
    {
     "data": {
      "text/html": [
       "<div>\n",
       "<style scoped>\n",
       "    .dataframe tbody tr th:only-of-type {\n",
       "        vertical-align: middle;\n",
       "    }\n",
       "\n",
       "    .dataframe tbody tr th {\n",
       "        vertical-align: top;\n",
       "    }\n",
       "\n",
       "    .dataframe thead th {\n",
       "        text-align: right;\n",
       "    }\n",
       "</style>\n",
       "<table border=\"1\" class=\"dataframe\">\n",
       "  <thead>\n",
       "    <tr style=\"text-align: right;\">\n",
       "      <th></th>\n",
       "      <th>product_id</th>\n",
       "      <th>rating</th>\n",
       "      <th>user_id</th>\n",
       "    </tr>\n",
       "  </thead>\n",
       "  <tbody>\n",
       "    <tr>\n",
       "      <th>1297</th>\n",
       "      <td>236</td>\n",
       "      <td>4.2</td>\n",
       "      <td>1170</td>\n",
       "    </tr>\n",
       "    <tr>\n",
       "      <th>175</th>\n",
       "      <td>947</td>\n",
       "      <td>3.7</td>\n",
       "      <td>615</td>\n",
       "    </tr>\n",
       "    <tr>\n",
       "      <th>275</th>\n",
       "      <td>955</td>\n",
       "      <td>3.3</td>\n",
       "      <td>220</td>\n",
       "    </tr>\n",
       "    <tr>\n",
       "      <th>548</th>\n",
       "      <td>680</td>\n",
       "      <td>4.3</td>\n",
       "      <td>1031</td>\n",
       "    </tr>\n",
       "    <tr>\n",
       "      <th>1000</th>\n",
       "      <td>1158</td>\n",
       "      <td>3.9</td>\n",
       "      <td>71</td>\n",
       "    </tr>\n",
       "  </tbody>\n",
       "</table>\n",
       "</div>"
      ],
      "text/plain": [
       "      product_id  rating  user_id\n",
       "1297         236     4.2     1170\n",
       "175          947     3.7      615\n",
       "275          955     3.3      220\n",
       "548          680     4.3     1031\n",
       "1000        1158     3.9       71"
      ]
     },
     "execution_count": 105,
     "metadata": {},
     "output_type": "execute_result"
    }
   ],
   "source": [
    "Test.head()"
   ]
  },
  {
   "cell_type": "markdown",
   "metadata": {
    "papermill": {
     "duration": 0.008928,
     "end_time": "2023-07-26T13:44:22.080069",
     "exception": false,
     "start_time": "2023-07-26T13:44:22.071141",
     "status": "completed"
    },
    "tags": []
   },
   "source": [
    "# Model\n"
   ]
  },
  {
   "cell_type": "code",
   "execution_count": 106,
   "metadata": {
    "ExecuteTime": {
     "end_time": "2023-07-26T18:45:09.002629800Z",
     "start_time": "2023-07-26T18:45:08.877626400Z"
    },
    "collapsed": false,
    "jupyter": {
     "outputs_hidden": false
    }
   },
   "outputs": [],
   "source": [
    "# Train KNN model\n",
    "model = NearestNeighbors(metric='cosine', algorithm='brute')"
   ]
  },
  {
   "cell_type": "code",
   "execution_count": 107,
   "metadata": {
    "ExecuteTime": {
     "end_time": "2023-07-26T18:45:09.002629800Z",
     "start_time": "2023-07-26T18:45:08.894631400Z"
    },
    "collapsed": false,
    "jupyter": {
     "outputs_hidden": false
    }
   },
   "outputs": [
    {
     "data": {
      "text/html": [
       "<style>#sk-container-id-6 {color: black;}#sk-container-id-6 pre{padding: 0;}#sk-container-id-6 div.sk-toggleable {background-color: white;}#sk-container-id-6 label.sk-toggleable__label {cursor: pointer;display: block;width: 100%;margin-bottom: 0;padding: 0.3em;box-sizing: border-box;text-align: center;}#sk-container-id-6 label.sk-toggleable__label-arrow:before {content: \"▸\";float: left;margin-right: 0.25em;color: #696969;}#sk-container-id-6 label.sk-toggleable__label-arrow:hover:before {color: black;}#sk-container-id-6 div.sk-estimator:hover label.sk-toggleable__label-arrow:before {color: black;}#sk-container-id-6 div.sk-toggleable__content {max-height: 0;max-width: 0;overflow: hidden;text-align: left;background-color: #f0f8ff;}#sk-container-id-6 div.sk-toggleable__content pre {margin: 0.2em;color: black;border-radius: 0.25em;background-color: #f0f8ff;}#sk-container-id-6 input.sk-toggleable__control:checked~div.sk-toggleable__content {max-height: 200px;max-width: 100%;overflow: auto;}#sk-container-id-6 input.sk-toggleable__control:checked~label.sk-toggleable__label-arrow:before {content: \"▾\";}#sk-container-id-6 div.sk-estimator input.sk-toggleable__control:checked~label.sk-toggleable__label {background-color: #d4ebff;}#sk-container-id-6 div.sk-label input.sk-toggleable__control:checked~label.sk-toggleable__label {background-color: #d4ebff;}#sk-container-id-6 input.sk-hidden--visually {border: 0;clip: rect(1px 1px 1px 1px);clip: rect(1px, 1px, 1px, 1px);height: 1px;margin: -1px;overflow: hidden;padding: 0;position: absolute;width: 1px;}#sk-container-id-6 div.sk-estimator {font-family: monospace;background-color: #f0f8ff;border: 1px dotted black;border-radius: 0.25em;box-sizing: border-box;margin-bottom: 0.5em;}#sk-container-id-6 div.sk-estimator:hover {background-color: #d4ebff;}#sk-container-id-6 div.sk-parallel-item::after {content: \"\";width: 100%;border-bottom: 1px solid gray;flex-grow: 1;}#sk-container-id-6 div.sk-label:hover label.sk-toggleable__label {background-color: #d4ebff;}#sk-container-id-6 div.sk-serial::before {content: \"\";position: absolute;border-left: 1px solid gray;box-sizing: border-box;top: 0;bottom: 0;left: 50%;z-index: 0;}#sk-container-id-6 div.sk-serial {display: flex;flex-direction: column;align-items: center;background-color: white;padding-right: 0.2em;padding-left: 0.2em;position: relative;}#sk-container-id-6 div.sk-item {position: relative;z-index: 1;}#sk-container-id-6 div.sk-parallel {display: flex;align-items: stretch;justify-content: center;background-color: white;position: relative;}#sk-container-id-6 div.sk-item::before, #sk-container-id-6 div.sk-parallel-item::before {content: \"\";position: absolute;border-left: 1px solid gray;box-sizing: border-box;top: 0;bottom: 0;left: 50%;z-index: -1;}#sk-container-id-6 div.sk-parallel-item {display: flex;flex-direction: column;z-index: 1;position: relative;background-color: white;}#sk-container-id-6 div.sk-parallel-item:first-child::after {align-self: flex-end;width: 50%;}#sk-container-id-6 div.sk-parallel-item:last-child::after {align-self: flex-start;width: 50%;}#sk-container-id-6 div.sk-parallel-item:only-child::after {width: 0;}#sk-container-id-6 div.sk-dashed-wrapped {border: 1px dashed gray;margin: 0 0.4em 0.5em 0.4em;box-sizing: border-box;padding-bottom: 0.4em;background-color: white;}#sk-container-id-6 div.sk-label label {font-family: monospace;font-weight: bold;display: inline-block;line-height: 1.2em;}#sk-container-id-6 div.sk-label-container {text-align: center;}#sk-container-id-6 div.sk-container {/* jupyter's `normalize.less` sets `[hidden] { display: none; }` but bootstrap.min.css set `[hidden] { display: none !important; }` so we also need the `!important` here to be able to override the default hidden behavior on the sphinx rendered scikit-learn.org. See: https://github.com/scikit-learn/scikit-learn/issues/21755 */display: inline-block !important;position: relative;}#sk-container-id-6 div.sk-text-repr-fallback {display: none;}</style><div id=\"sk-container-id-6\" class=\"sk-top-container\"><div class=\"sk-text-repr-fallback\"><pre>NearestNeighbors(algorithm=&#x27;brute&#x27;, metric=&#x27;cosine&#x27;)</pre><b>In a Jupyter environment, please rerun this cell to show the HTML representation or trust the notebook. <br />On GitHub, the HTML representation is unable to render, please try loading this page with nbviewer.org.</b></div><div class=\"sk-container\" hidden><div class=\"sk-item\"><div class=\"sk-estimator sk-toggleable\"><input class=\"sk-toggleable__control sk-hidden--visually\" id=\"sk-estimator-id-6\" type=\"checkbox\" checked><label for=\"sk-estimator-id-6\" class=\"sk-toggleable__label sk-toggleable__label-arrow\">NearestNeighbors</label><div class=\"sk-toggleable__content\"><pre>NearestNeighbors(algorithm=&#x27;brute&#x27;, metric=&#x27;cosine&#x27;)</pre></div></div></div></div></div>"
      ],
      "text/plain": [
       "NearestNeighbors(algorithm='brute', metric='cosine')"
      ]
     },
     "execution_count": 107,
     "metadata": {},
     "output_type": "execute_result"
    }
   ],
   "source": [
    "model.fit(pivot_data)"
   ]
  },
  {
   "cell_type": "code",
   "execution_count": 109,
   "metadata": {
    "ExecuteTime": {
     "end_time": "2023-07-26T18:45:09.003632200Z",
     "start_time": "2023-07-26T18:45:08.912625800Z"
    },
    "collapsed": false,
    "jupyter": {
     "outputs_hidden": false
    }
   },
   "outputs": [],
   "source": [
    "# Predict using same pivot_table structure\n",
    "distances, indices = model.kneighbors(pivot_table, n_neighbors=6)"
   ]
  },
  {
   "cell_type": "code",
   "execution_count": 110,
   "metadata": {
    "ExecuteTime": {
     "end_time": "2023-07-26T18:45:09.033624100Z",
     "start_time": "2023-07-26T18:45:08.957626100Z"
    },
    "collapsed": false,
    "jupyter": {
     "outputs_hidden": false
    }
   },
   "outputs": [
    {
     "data": {
      "text/plain": [
       "array([[0., 1., 1., 1., 1., 1.],\n",
       "       [0., 0., 0., 1., 1., 1.],\n",
       "       [0., 1., 1., 1., 1., 1.],\n",
       "       ...,\n",
       "       [0., 1., 1., 1., 1., 1.],\n",
       "       [0., 1., 1., 1., 1., 1.],\n",
       "       [0., 1., 1., 1., 1., 1.]])"
      ]
     },
     "execution_count": 110,
     "metadata": {},
     "output_type": "execute_result"
    }
   ],
   "source": [
    "distances"
   ]
  },
  {
   "cell_type": "code",
   "execution_count": 111,
   "metadata": {
    "ExecuteTime": {
     "end_time": "2023-07-26T18:50:41.349339700Z",
     "start_time": "2023-07-26T18:50:41.311335700Z"
    },
    "collapsed": false,
    "jupyter": {
     "outputs_hidden": false
    }
   },
   "outputs": [
    {
     "data": {
      "text/plain": [
       "array([[   0,  904,  901,  902,  899,  903],\n",
       "       [  13,    1,   15,  901,  900,  903],\n",
       "       [   2,  902,  904,  900,  901,  898],\n",
       "       ...,\n",
       "       [1347,  902,  904,  900,  901,  898],\n",
       "       [1348,  902,  904,  900,  901,  898],\n",
       "       [1349,  904,  901,  902,  899,  903]])"
      ]
     },
     "execution_count": 111,
     "metadata": {},
     "output_type": "execute_result"
    }
   ],
   "source": [
    "indices"
   ]
  },
  {
   "cell_type": "code",
   "execution_count": 112,
   "metadata": {},
   "outputs": [
    {
     "name": "stdout",
     "output_type": "stream",
     "text": [
      "Model and encoder saved.\n"
     ]
    }
   ],
   "source": [
    "# Save model, pivot_table, and product_id_encoder in one file\n",
    "with open('model.pkl', 'rb') as f:\n",
    "    model, pivot_table, product_id_encoder = pickle.load(f)\n",
    "\n",
    "print(\"Model and encoder saved.\")"
   ]
  },
  {
   "cell_type": "markdown",
   "metadata": {},
   "source": [
    "# Prediction"
   ]
  },
  {
   "cell_type": "code",
   "execution_count": 115,
   "metadata": {},
   "outputs": [],
   "source": [
    "def get_recommendations_with_details(product_id=0, n_recommendations=5):\n",
    "    try:\n",
    "        original_product_id = product_id_encoder.inverse_transform([product_id])[0]\n",
    "        product_index = pivot_table.index.get_loc(product_id)\n",
    "\n",
    "        distances, indices = model.kneighbors(\n",
    "            pivot_table.iloc[[product_index]], n_neighbors=n_recommendations + 1\n",
    "        )\n",
    "\n",
    "        recommendations = []\n",
    "        for j in range(1, len(indices[0])):  # skip self\n",
    "            try:\n",
    "                recommended_index = indices[0][j]\n",
    "                recommended_encoded_id = pivot_table.index[recommended_index]\n",
    "                recommended_original_id = product_id_encoder.inverse_transform([recommended_encoded_id])[0]\n",
    "\n",
    "                product_info = full_data[full_data['product_id'] == recommended_original_id].iloc[0]\n",
    "\n",
    "                recommendations.append({\n",
    "                    'product_id': recommended_original_id,\n",
    "                    'product_name': product_info['product_name'],\n",
    "                    'category': product_info['category'],\n",
    "                    'rating': product_info['rating'],\n",
    "                    'rating_count': product_info['rating_count'],\n",
    "                    'img_link': product_info['img_link'],\n",
    "                    'product_link': product_info['product_link'],\n",
    "                    'distance': distances[0][j]\n",
    "                })\n",
    "            except Exception as e:\n",
    "                print(f\"Inner Error: {e}\")\n",
    "                continue\n",
    "\n",
    "        return recommendations\n",
    "\n",
    "    except Exception as e:\n",
    "        print(\"Main Error:\", e)\n",
    "        return [{\"error\": str(e)}]\n"
   ]
  },
  {
   "cell_type": "code",
   "execution_count": 116,
   "metadata": {},
   "outputs": [
    {
     "name": "stdout",
     "output_type": "stream",
     "text": [
      "Sample Recommendation:\n",
      "\n",
      "{'product_id': 'B09G2VTHQM', 'product_name': 'AGARO Classic Portable Yogurt Maker, 1.2L Capacity, Electric, Automatic, Grey and White, Medium (33603)', 'category': 'Home&Kitchen|Kitchen&HomeAppliances|SmallKitchenAppliances|YogurtMakers', 'rating': '4.1', 'rating_count': '557', 'img_link': 'https://m.media-amazon.com/images/W/WEBP_402378-T1/images/I/310umqMFDRL._SX300_SY300_QL70_FMwebp_.jpg', 'product_link': 'https://www.amazon.in/AGARO-Portable-Capacity-Automatic-33603/dp/B09G2VTHQM/ref=sr_1_362?qid=1672923610&s=kitchen&sr=1-362', 'distance': 1.0}\n",
      "{'product_id': 'B09FPP3R1D', 'product_name': 'Glen 3 in 1 Electric Multi Cooker - Steam, Cook & Egg Boiler with 350 W (SA 3035MC) - 350 Watts', 'category': 'Home&Kitchen|Kitchen&HomeAppliances|SmallKitchenAppliances|EggBoilers', 'rating': '4.1', 'rating_count': '827', 'img_link': 'https://m.media-amazon.com/images/I/31afXBXOUVL._SX300_SY300_QL70_FMwebp_.jpg', 'product_link': 'https://www.amazon.in/Glen-Electric-Multi-Cooker-Boiler/dp/B09FPP3R1D/ref=sr_1_456?qid=1672923614&s=kitchen&sr=1-456', 'distance': 1.0}\n",
      "{'product_id': 'B09FZ89DK6', 'product_name': 'Eureka Forbes Supervac 1600 Watts Powerful Suction,bagless Vacuum Cleaner with cyclonic Technology,7 Accessories,1 Year Warranty,Compact,Lightweight & Easy to use (Red)', 'category': 'Home&Kitchen|Kitchen&HomeAppliances|Vacuum,Cleaning&Ironing|Vacuums&FloorCare|Vacuums|CanisterVacuums', 'rating': '4.2', 'rating_count': '1,191', 'img_link': 'https://m.media-amazon.com/images/W/WEBP_402378-T1/images/I/31ixn2s6IbL._SX300_SY300_QL70_FMwebp_.jpg', 'product_link': 'https://www.amazon.in/Eureka-Forbes-Powerful-Technology-GFCDSFSVL00000/dp/B09FZ89DK6/ref=sr_1_180?qid=1672923600&s=kitchen&sr=1-180', 'distance': 1.0}\n",
      "{'product_id': 'B09FHHTL8L', 'product_name': 'Empty Mist Trigger Plastic Spray Bottle for Multi use 200ml Pack of 2', 'category': 'Home&Kitchen|HomeStorage&Organization|LaundryOrganization|IroningAccessories|SprayBottles', 'rating': '4.1', 'rating_count': '212', 'img_link': 'https://m.media-amazon.com/images/W/WEBP_402378-T1/images/I/41Qu+vkjbcL._SY300_SX300_.jpg', 'product_link': 'https://www.amazon.in/Empty-Trigger-Plastic-Spray-Bottle/dp/B09FHHTL8L/ref=sr_1_430_mod_primary_new?qid=1672923613&s=kitchen&sbo=RZvfv%2F%2FHxDF%2BO5021pAnSA%3D%3D&sr=1-430', 'distance': 1.0}\n",
      "{'product_id': 'B09G5TSGXV', 'product_name': 'Hi-Mobiler iPhone Charger Lightning Cable,2 Pack Apple MFi Certified USB iPhone Fast Chargering Cord,Data Sync Transfer for 13/12/11 Pro Max Xs X XR 8 7 6 5 5s iPad iPod More Model Cell Phone Cables', 'category': 'Computers&Accessories|Accessories&Peripherals|Cables&Accessories|Cables|USBCables', 'rating': '4.0', 'rating_count': '2,905', 'img_link': 'https://m.media-amazon.com/images/W/WEBP_402378-T2/images/I/41FQPJ+s61L._SX342_SY445_.jpg', 'product_link': 'https://www.amazon.in/Charging-Certified-Lightning-Transfer-Iphone12/dp/B09G5TSGXV/ref=sr_1_260?qid=1672909136&s=electronics&sr=1-260', 'distance': 1.0}\n"
     ]
    }
   ],
   "source": [
    "# Test recommendation\n",
    "print(\"Sample Recommendation:\\n\")\n",
    "result = get_recommendations_with_details(product_id=100, n_recommendations=5)\n",
    "for r in result:\n",
    "    print(r)"
   ]
  },
  {
   "cell_type": "code",
   "execution_count": null,
   "metadata": {},
   "outputs": [],
   "source": [
    "'''def get_recommendations_for_product2(model, data, n_recommendations, product_id):\n",
    "    # Inverse transform the label-encoded product_id to get the original product_id\n",
    "    original_product_id = product_id_encoder.inverse_transform([product_id])[0]\n",
    "\n",
    "    # Find the index of the original product_id in the data DataFrame\n",
    "    product_index = full_data[full_data['product_id'] == original_product_id].index[0]\n",
    "\n",
    "    # Compute recommendations for the specified product\n",
    "    distances, indices = model.kneighbors(data.iloc[product_index].values.reshape(1, -1))\n",
    "\n",
    "    # Print details of recommended products\n",
    "    print(f\"Recommendations for product with original ID {original_product_id}:\")\n",
    "    original=full_data.loc[full_data['product_id'] == original_product_id].iloc[0]\n",
    "    print(f\"   Product Name: {original['product_name']}\")\n",
    "    print(f\"   Category: {original['category']}\")\n",
    "    print(\"\\n\")\n",
    "    for j in range(1, n_recommendations + 1):\n",
    "        try:\n",
    "            recommended_index = indices[0][j]\n",
    "            recommended_original_id = product_id_encoder.inverse_transform([recommended_index])[0]\n",
    "            distance = distances[0][j]\n",
    "            # Retrieve details of the recommended product from the full_data DataFrame\n",
    "            recommended_product_details = full_data[full_data['product_id'] == recommended_original_id].iloc[0]\n",
    "            print(f\"{j}: Product ID: {recommended_original_id}, Distance: {distance}\")\n",
    "            # You can also print additional details of the recommended product\n",
    "            print(f\"   Product Name: {recommended_product_details['product_name']}\")\n",
    "            print(f\"   Category: {recommended_product_details['category']}\")\n",
    "            # Add more details as needed\n",
    "        except:\n",
    "            print(f\"No more recommendations\")\n",
    "            continue\n",
    "        print(\"\\n\")\n",
    "'''"
   ]
  },
  {
   "cell_type": "code",
   "execution_count": null,
   "metadata": {},
   "outputs": [
    {
     "name": "stdout",
     "output_type": "stream",
     "text": [
      "Recommendations for product with original ID B0085IATT6:\n",
      "   Product Name: D-Link DIR-615 Wi-fi Ethernet-N300 Single_band 300Mbps Router, Mobile App Support, Router | AP | Repeater | Client Modes(Black)\n",
      "   Category: Computers&Accessories|NetworkingDevices|Routers\n",
      "\n",
      "\n",
      "1: Product ID: B09MTLG4TP, Distance: 1.4757618989058585e-06\n",
      "   Product Name: SAIELLIN Electric Lint Remover for Clothes Fabric Shaver Lint Shaver for Woolen Clothes Blanket Jackets Stainless Steel Blades, Clothes and Furniture Lint Roller for Fabrics Portable Lint Shavers (White Orange)\n",
      "   Category: Home&Kitchen|Kitchen&HomeAppliances|Vacuum,Cleaning&Ironing|Irons,Steamers&Accessories|LintShavers\n",
      "\n",
      "\n",
      "2: Product ID: B08CTQP51L, Distance: 2.4761762401626086e-06\n",
      "   Product Name: Robustrion [Anti-Scratch] & [Smudge Proof] [S Pen Compatible] Premium Tempered Glass Screen Protector for Samsung Tab S6 Lite 10.4 inch SM-P610/615 [Bubble Free]\n",
      "   Category: Computers&Accessories|Accessories&Peripherals|TabletAccessories|ScreenProtectors\n",
      "\n",
      "\n",
      "3: Product ID: B09JFR8H3Q, Distance: 5.599450487503432e-06\n",
      "   Product Name: Macmillan Aquafresh 5 Micron PS-05 10\" in PP Spun Filter Candle Set for All Type RO Water Purifier 10 inch (4)\n",
      "   Category: Home&Kitchen|Kitchen&HomeAppliances|WaterPurifiers&Accessories|WaterPurifierAccessories\n",
      "\n",
      "\n",
      "4: Product ID: B0B19VJXQZ, Distance: 5.761537394510796e-06\n",
      "   Product Name: ECOVACS DEEBOT N8 2-in-1 Robotic Vacuum Cleaner, 2022 New Launch, Most Powerful Suction, Covers 2000+ Sq. Ft in One Charge, Advanced dToF Technology with OZMO Mopping (DEEBOT N8) - White\n",
      "   Category: Home&Kitchen|Kitchen&HomeAppliances|Vacuum,Cleaning&Ironing|Vacuums&FloorCare|Vacuums|RoboticVacuums\n",
      "\n",
      "\n",
      "No more recommendations\n"
     ]
    },
    {
     "name": "stderr",
     "output_type": "stream",
     "text": [
      "/home/ubuntu/MLPRO/lib/python3.10/site-packages/sklearn/base.py:465: UserWarning: X does not have valid feature names, but NearestNeighbors was fitted with feature names\n",
      "  warnings.warn(\n"
     ]
    }
   ],
   "source": [
    "# Example usage:\n",
    "#get_recommendations_for_product2(model, data, 5, 11) "
   ]
  },
  {
   "cell_type": "code",
   "execution_count": null,
   "metadata": {},
   "outputs": [],
   "source": [
    "#import pickle"
   ]
  },
  {
   "cell_type": "code",
   "execution_count": null,
   "metadata": {},
   "outputs": [],
   "source": [
    "# During model training / setup\n",
    "'''with open('model.pkl', 'wb') as f:\n",
    "    pickle.dump(model, f)\n",
    "'''    "
   ]
  },
  {
   "cell_type": "code",
   "execution_count": null,
   "metadata": {},
   "outputs": [],
   "source": [
    "#pickle.dump(model,open('model.pkl', 'wb') )"
   ]
  },
  {
   "cell_type": "code",
   "execution_count": null,
   "metadata": {},
   "outputs": [],
   "source": [
    "#data.to_csv('Test_data.csv')"
   ]
  },
  {
   "cell_type": "code",
   "execution_count": null,
   "metadata": {},
   "outputs": [],
   "source": [
    "#model = pickle.load(open('model.pkl', 'rb'))"
   ]
  },
  {
   "cell_type": "code",
   "execution_count": null,
   "metadata": {},
   "outputs": [],
   "source": [
    "'''def get_recommendations_with_details(model=model, data=data, n_recommendations=5, product_id=0):\n",
    "    # Inverse transform the label-encoded product_id to get the original product_id\n",
    "    original_product_id = product_id_encoder.inverse_transform([product_id])[0]\n",
    "\n",
    "    # Find the index of the original product_id in the data DataFrame\n",
    "    product_index = full_data[full_data['product_id'] == original_product_id].index[0]\n",
    "\n",
    "    # Compute recommendations for the specified product\n",
    "    distances, indices = model.kneighbors(data.iloc[product_index].values.reshape(1, -1))\n",
    "\n",
    "    recommendations = []\n",
    "\n",
    "    for j in range(1, n_recommendations + 1):\n",
    "        try:\n",
    "            recommended_index = indices[0][j]\n",
    "            recommended_original_id = product_id_encoder.inverse_transform([recommended_index])[0]\n",
    "            distance = distances[0][j]\n",
    "\n",
    "            # Retrieve details of the recommended product from the full_data DataFrame\n",
    "            recommended_product_details = full_data[full_data['product_id'] == recommended_original_id].iloc[0]\n",
    "\n",
    "            recommendation_info = {\n",
    "                'product_id': recommended_original_id,\n",
    "                'product_name': recommended_product_details['product_name'],\n",
    "                'category': recommended_product_details['category'],\n",
    "                'rating': recommended_product_details['rating'],\n",
    "                'rating_count': recommended_product_details['rating_count'],\n",
    "                'img_link': recommended_product_details['img_link'],\n",
    "                'product_link': recommended_product_details['product_link'],\n",
    "                'distance': distance\n",
    "            }\n",
    "\n",
    "            recommendations.append(recommendation_info)\n",
    "\n",
    "        except:\n",
    "            print(f\"No more recommendations\")\n",
    "            continue\n",
    "\n",
    "    return recommendations\n",
    "'''    \n"
   ]
  },
  {
   "cell_type": "code",
   "execution_count": 117,
   "metadata": {},
   "outputs": [
    {
     "data": {
      "text/plain": [
       "product_id    1350\n",
       "rating          25\n",
       "user_id       1193\n",
       "dtype: int64"
      ]
     },
     "execution_count": 117,
     "metadata": {},
     "output_type": "execute_result"
    }
   ],
   "source": [
    "data.nunique()"
   ]
  },
  {
   "cell_type": "code",
   "execution_count": null,
   "metadata": {},
   "outputs": [
    {
     "data": {
      "text/plain": [
       "product_id             1351\n",
       "product_name           1337\n",
       "category                211\n",
       "discounted_price        550\n",
       "actual_price            449\n",
       "discount_percentage      92\n",
       "rating                   28\n",
       "rating_count           1143\n",
       "about_product          1293\n",
       "user_id                1194\n",
       "user_name              1194\n",
       "review_id              1194\n",
       "review_title           1194\n",
       "review_content         1212\n",
       "img_link               1412\n",
       "product_link           1465\n",
       "dtype: int64"
      ]
     },
     "execution_count": 61,
     "metadata": {},
     "output_type": "execute_result"
    }
   ],
   "source": [
    "#full_data.nunique()"
   ]
  },
  {
   "cell_type": "code",
   "execution_count": null,
   "metadata": {},
   "outputs": [],
   "source": []
  }
 ],
 "metadata": {
  "kernelspec": {
   "display_name": "MLPRO",
   "language": "python",
   "name": "python3"
  },
  "language_info": {
   "codemirror_mode": {
    "name": "ipython",
    "version": 3
   },
   "file_extension": ".py",
   "mimetype": "text/x-python",
   "name": "python",
   "nbconvert_exporter": "python",
   "pygments_lexer": "ipython3",
   "version": "3.10.12"
  }
 },
 "nbformat": 4,
 "nbformat_minor": 4
}
